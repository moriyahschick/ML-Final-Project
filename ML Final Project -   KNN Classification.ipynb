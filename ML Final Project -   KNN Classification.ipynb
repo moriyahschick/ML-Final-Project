{
 "cells": [
  {
   "cell_type": "markdown",
   "metadata": {},
   "source": [
    "### Content of this notebook\n",
    "\n",
    "Two regression problems: predict number of crimes per week and average number of crimes per day \n",
    "Preparation code does both. Some steps are the same where otheres are different\n",
    "weekly specific variables are designated with prefix _w and daily average with _d\n",
    "Regression algoritms are the same and will be executed twice by changing input "
   ]
  },
  {
   "cell_type": "markdown",
   "metadata": {},
   "source": [
    "#### Import nesessary modules"
   ]
  },
  {
   "cell_type": "code",
   "execution_count": 15,
   "metadata": {},
   "outputs": [],
   "source": [
    "import numpy as np\n",
    "import math as math \n",
    "import pandas as pd\n",
    "import matplotlib as plt\n",
    "import seaborn as sns\n",
    "from matplotlib import pyplot as plt\n",
    "import datetime\n",
    "import calendar\n",
    "# from datetime import datetime\n",
    "\n",
    "from astral.sun import sun\n",
    "from astral import LocationInfo\n",
    "\n",
    "import warnings\n",
    "\n",
    "from sklearn import datasets\n",
    "from sklearn.preprocessing import StandardScaler\n",
    "from sklearn.model_selection import train_test_split, learning_curve\n",
    "from sklearn.linear_model import LinearRegression\n",
    "from sklearn.preprocessing import MinMaxScaler\n",
    "from sklearn.compose import TransformedTargetRegressor\n",
    "from sklearn.metrics import mean_squared_error, r2_score\n",
    "from sklearn.preprocessing import PolynomialFeatures\n",
    "from sklearn.pipeline import make_pipeline\n",
    "from sklearn.neighbors import KNeighborsClassifier\n",
    "from sklearn.metrics import confusion_matrix, accuracy_score\n",
    "from sklearn.model_selection import cross_val_score\n",
    "from sklearn import preprocessing\n",
    "from sklearn.preprocessing import OrdinalEncoder\n",
    "\n",
    "from shapely.geometry.point import Point\n",
    "import geopandas as gpd\n",
    "from geopandas import GeoSeries\n",
    "from shapely.geometry import Polygon\n",
    "from shapely.geometry.multipolygon import MultiPolygon\n",
    "from shapely import wkt\n",
    "\n",
    "from sklearn.neighbors import KNeighborsClassifier\n",
    "from sklearn.neighbors import KNeighborsRegressor\n",
    "from sklearn.datasets import make_regression\n",
    "from sklearn import metrics\n",
    "\n",
    "from sklearn.ensemble import RandomForestRegressor\n",
    "from sklearn.neural_network import MLPRegressor\n",
    "from sklearn.metrics import confusion_matrix, precision_score, recall_score, f1_score\n",
    "from sklearn.metrics import classification_report"
   ]
  },
  {
   "cell_type": "markdown",
   "metadata": {},
   "source": [
    "#### Read input data"
   ]
  },
  {
   "cell_type": "code",
   "execution_count": 4,
   "metadata": {},
   "outputs": [],
   "source": [
    "df_all = pd.read_csv('/Volumes/CUNYGC/GC/CIS74020_ML/Final Project/Data/NYPD_Complaint_All_Clean.csv', sep=\",\")\n",
    "\n",
    "subway = pd.read_csv('/Volumes/CUNYGC/GC/CIS74020_ML/Final Project/Data/SUBWAY_ENTRANCE.csv')\n",
    "\n",
    "nynta = pd.read_csv ('/Volumes/CUNYGC/GC/CIS74020_ML/Final Project/Data/nynta.csv')\n",
    "\n",
    "nyc_pop = pd.read_csv('/Volumes/CUNYGC/GC/CIS74020_ML/Final Project/Data/New_York_City_Population_By_Neighborhood_Tabulation_Areas.csv')\n",
    "nyc_pop2010 = nyc_pop[nyc_pop['Year'] == 2010]\n",
    "\n",
    "holidays = pd.read_csv ('/Volumes/CUNYGC/GC/CIS74020_ML/Final Project/Data/US_Holiday_Dates.csv')"
   ]
  },
  {
   "cell_type": "markdown",
   "metadata": {},
   "source": [
    "## Cassification problem"
   ]
  },
  {
   "cell_type": "markdown",
   "metadata": {},
   "source": [
    "## KNN"
   ]
  },
  {
   "cell_type": "code",
   "execution_count": 10,
   "metadata": {},
   "outputs": [],
   "source": [
    "ofns_list = ['BURGLARY', 'INTOXICATED & IMPAIRED DRIVING', 'DANGEROUS DRUGS']\n",
    "# df_knn = df_all[(df_all['OFNS_DESC'].isin(ofns_list)) & (df_all['YEAR'] <= 2010)]\n",
    "df_knn = df_all[df_all['OFNS_DESC'].isin(ofns_list)]\n",
    "\n",
    "y=df_knn['OFNS_DESC']\n",
    "\n",
    "# X=df_knn[['NTACode','YEAR', 'WEEK','DAY','DAY_OF_WEEK', 'TIME_CAT', 'INSIDE']]\n",
    "X=df_knn[['NTACode','YEAR', 'WEEK','DAY','DAY_OF_WEEK', 'TIME', 'TIME_CAT', 'INSIDE']]\n",
    "# X=df_knn.drop('LAW_CAT_CD', axis=1)\n",
    "\n",
    "# X = pd.get_dummies(X, columns=['NTACode','YEAR','WEEK','DAY','DAY_OF_WEEK', 'TIME', 'TIME_CAT', 'INSIDE'])\n",
    "X = pd.get_dummies(X, columns=['NTACode','YEAR','WEEK','DAY','DAY_OF_WEEK', 'TIME_CAT', 'INSIDE'])\n",
    "\n",
    "X = np.asarray (X)\n",
    "y = np.asarray (y)"
   ]
  },
  {
   "cell_type": "code",
   "execution_count": 27,
   "metadata": {},
   "outputs": [
    {
     "name": "stdout",
     "output_type": "stream",
     "text": [
      "Parameters:  (10, 'distance', 1) ; Trainig accuracy: 0.997; test accuracy: 0.737\n",
      "Parameters:  (10, 'distance', 2) ; Trainig accuracy: 0.997; test accuracy: 0.734\n",
      "Parameters:  (50, 'distance', 1) ; Trainig accuracy: 0.997; test accuracy: 0.734\n",
      "Parameters:  (20, 'distance', 1) ; Trainig accuracy: 0.997; test accuracy: 0.732\n",
      "Parameters:  (50, 'distance', 2) ; Trainig accuracy: 0.997; test accuracy: 0.730\n",
      "Parameters:  (20, 'distance', 2) ; Trainig accuracy: 0.997; test accuracy: 0.729\n",
      "Parameters:  (10, 'uniform', 1) ; Trainig accuracy: 0.780; test accuracy: 0.726\n",
      "Parameters:  (10, 'uniform', 2) ; Trainig accuracy: 0.780; test accuracy: 0.726\n",
      "Parameters:  (5, 'distance', 1) ; Trainig accuracy: 0.997; test accuracy: 0.726\n",
      "Parameters:  (5, 'distance', 2) ; Trainig accuracy: 0.997; test accuracy: 0.721\n",
      "Parameters:  (20, 'uniform', 1) ; Trainig accuracy: 0.753; test accuracy: 0.719\n",
      "Parameters:  (20, 'uniform', 2) ; Trainig accuracy: 0.753; test accuracy: 0.719\n",
      "Parameters:  (50, 'uniform', 1) ; Trainig accuracy: 0.741; test accuracy: 0.717\n",
      "Parameters:  (50, 'uniform', 2) ; Trainig accuracy: 0.741; test accuracy: 0.717\n",
      "Parameters:  (3, 'distance', 1) ; Trainig accuracy: 0.997; test accuracy: 0.716\n",
      "Parameters:  (3, 'distance', 2) ; Trainig accuracy: 0.997; test accuracy: 0.716\n",
      "Parameters:  (5, 'uniform', 1) ; Trainig accuracy: 0.803; test accuracy: 0.711\n",
      "Parameters:  (5, 'uniform', 2) ; Trainig accuracy: 0.803; test accuracy: 0.711\n",
      "Parameters:  (3, 'uniform', 1) ; Trainig accuracy: 0.840; test accuracy: 0.710\n",
      "Parameters:  (3, 'uniform', 2) ; Trainig accuracy: 0.840; test accuracy: 0.710\n"
     ]
    }
   ],
   "source": [
    "X1= X[:20000,:]\n",
    "y1= y[:20000]\n",
    "\n",
    "X_train, X_test, y_train, y_test = train_test_split(X1, y1, test_size=0.2, random_state=0)\n",
    "\n",
    "neighbors = [3,5,10,20,50]\n",
    "wghts=['uniform', 'distance']\n",
    "distance=[1,2] #1-manhattan; 2-euclidean\n",
    "\n",
    "models = {}\n",
    "for i in range(len(neighbors)):       \n",
    "    for j in range(len(wghts)):       \n",
    "        for w in range(len(distance)): \n",
    "            knn = KNeighborsClassifier(n_neighbors=neighbors[i], weights=wghts[j],p=distance[w])\n",
    "            knn.fit(X_train, y_train)       \n",
    "            train_accuracy = knn.score(X_train, y_train)\n",
    "            \n",
    "            key = [neighbors[i], wghts[j], distance[w]]\n",
    "            models[tuple(key)] = [train_accuracy]\n",
    "            \n",
    "            test_accuracy = knn.score(X_test, y_test)\n",
    "            key = [neighbors[i], wghts[j], distance[w]]\n",
    "            models[tuple(key)] = [train_accuracy, test_accuracy]\n",
    "            \n",
    "models_sorted=sorted(models.items(), key=lambda elem: elem[1][1], reverse=True)  \n",
    "     \n",
    "for i in range(len(models_sorted)):\n",
    "    print('Parameters: ', models_sorted[i][0],'; Trainig accuracy: {:.3f}; test accuracy: {:.3f}'.format(models_sorted[i][1][0],models_sorted[i][1][1]) )\n"
   ]
  },
  {
   "cell_type": "code",
   "execution_count": 13,
   "metadata": {},
   "outputs": [
    {
     "name": "stdout",
     "output_type": "stream",
     "text": [
      "Train Accuracy 0.9961875\n",
      "\n",
      "Test Accuracy:  0.73205\n"
     ]
    }
   ],
   "source": [
    "X1= X \n",
    "y1= y \n",
    "# X1= X[:100000,:]\n",
    "# y1= y[:100000]\n",
    "\n",
    "X_train, X_test, y_train, y_test = train_test_split(X1, y1, test_size=0.2, random_state=0)\n",
    "\n",
    "#Selected parameters of the best model from previous step\n",
    "# =====> Parameters:  (10, 'distance', 1) ; Trainig accuracy: 0.997; test accuracy: 0.737\n",
    "\n",
    "s_neighbors = 10\n",
    "s_wghts='distance'\n",
    "s_distance=1 # 1- manhattan\n",
    "\n",
    "knn=KNeighborsClassifier(n_neighbors=s_neighbors, weights=s_wghts,p=s_distance)\n",
    "\n",
    "knn.fit(X_train, y_train)\n",
    "train_accuracy = knn.score(X_train, y_train)\n",
    "print('Train Accuracy', train_accuracy)\n",
    "\n",
    "test_accuracy_knn = knn.score(X_test, y_test)\n",
    "print(\"\\nTest Accuracy: \", test_accuracy_knn)"
   ]
  },
  {
   "cell_type": "code",
   "execution_count": 16,
   "metadata": {},
   "outputs": [
    {
     "name": "stdout",
     "output_type": "stream",
     "text": [
      "Evaluation of the KNN Model\n",
      "\n",
      "Test Accuracy:  0.73205\n",
      "\n",
      "No. of correct predictions (Test): 14641/20000\n",
      "\n",
      "Confusion Matrix (Test Data):\n",
      " [[3760 1990  171]\n",
      " [1106 9453  651]\n",
      " [  64 1377 1428]]\n",
      "\n",
      "Train Classification Report:\n",
      "                                precision    recall  f1-score   support\n",
      "\n",
      "                      BURGLARY       0.76      0.64      0.69      5921\n",
      "               DANGEROUS DRUGS       0.74      0.84      0.79     11210\n",
      "INTOXICATED & IMPAIRED DRIVING       0.63      0.50      0.56      2869\n",
      "\n",
      "                      accuracy                           0.73     20000\n",
      "                     macro avg       0.71      0.66      0.68     20000\n",
      "                  weighted avg       0.73      0.73      0.73     20000\n",
      "\n"
     ]
    }
   ],
   "source": [
    "print(\"Evaluation of the KNN Model\")\n",
    "\n",
    "# The accuracy of the model\n",
    "test_accuracy_knn = knn.score(X_test, y_test)\n",
    "print(\"\\nTest Accuracy: \", test_accuracy_knn)\n",
    "\n",
    "# No. of Correct Predictions\n",
    "y_test_predicted = knn.predict(X_test)\n",
    "print(\"\\nNo. of correct predictions (Test): %d/%d\" % (np.sum(y_test_predicted == y_test), len(y_test)))\n",
    "\n",
    "\n",
    "# Confusion Matrix\n",
    "print(\"\\nConfusion Matrix (Test Data):\\n\", confusion_matrix(y_test, y_test_predicted))\n",
    "\n",
    "print('\\nTrain Classification Report:')\n",
    "print(classification_report(y_test, y_test_predicted))"
   ]
  },
  {
   "cell_type": "code",
   "execution_count": null,
   "metadata": {},
   "outputs": [],
   "source": []
  }
 ],
 "metadata": {
  "kernelspec": {
   "display_name": "Python 3",
   "language": "python",
   "name": "python3"
  },
  "language_info": {
   "codemirror_mode": {
    "name": "ipython",
    "version": 3
   },
   "file_extension": ".py",
   "mimetype": "text/x-python",
   "name": "python",
   "nbconvert_exporter": "python",
   "pygments_lexer": "ipython3",
   "version": "3.8.5"
  }
 },
 "nbformat": 4,
 "nbformat_minor": 4
}
